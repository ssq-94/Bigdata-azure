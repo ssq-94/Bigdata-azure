{
 "cells": [
  {
   "cell_type": "markdown",
   "metadata": {
    "application/vnd.databricks.v1+cell": {
     "cellMetadata": {},
     "inputWidgets": {},
     "nuid": "cc53c531-c731-40c5-a343-7cc1d28beab0",
     "showTitle": false,
     "title": ""
    }
   },
   "source": [
    "# Three steps to connect Azure Databricks with an Azure storage container:\n",
    "\n",
    "1. Create an Azure Databricks workspace, compute cluster, and notebook. \n",
    "2. Allow Azure Databricks to access your Storage container in Azure. \n",
    "\n",
    "3. Mount the Storage container to the Azure Databricks directory for seamless access.\n",
    "This code mounts the storage container specified by storageAccountName and containerName to the Azure Databricks directory. It uses Azure AD application credentials (applicationId, directoryID, secretValue) for authentication. The mount point is defined as /mnt/deBDProject, and the configuration parameters are set to enable OAuth-based authentication.\n"
   ]
  },
  {
   "cell_type": "code",
   "execution_count": 0,
   "metadata": {
    "application/vnd.databricks.v1+cell": {
     "cellMetadata": {
      "byteLimit": 2048000,
      "rowLimit": 10000
     },
     "inputWidgets": {},
     "nuid": "96a8f4c4-2453-4a8a-afa0-cd486549af84",
     "showTitle": false,
     "title": ""
    }
   },
   "outputs": [
    {
     "output_type": "execute_result",
     "data": {
      "text/plain": [
       "[MountInfo(mountPoint='/databricks-datasets', source='databricks-datasets', encryptionType=''),\n",
       " MountInfo(mountPoint='/Volumes', source='UnityCatalogVolumes', encryptionType=''),\n",
       " MountInfo(mountPoint='/databricks/mlflow-tracking', source='databricks/mlflow-tracking', encryptionType=''),\n",
       " MountInfo(mountPoint='/databricks-results', source='databricks-results', encryptionType=''),\n",
       " MountInfo(mountPoint='/databricks/mlflow-registry', source='databricks/mlflow-registry', encryptionType=''),\n",
       " MountInfo(mountPoint='/Volume', source='DbfsReserved', encryptionType=''),\n",
       " MountInfo(mountPoint='/volumes', source='DbfsReserved', encryptionType=''),\n",
       " MountInfo(mountPoint='/', source='DatabricksRoot', encryptionType=''),\n",
       " MountInfo(mountPoint='/volume', source='DbfsReserved', encryptionType='')]"
      ]
     },
     "execution_count": 1,
     "metadata": {},
     "output_type": "execute_result"
    }
   ],
   "source": [
    "dbutils.fs.mounts()"
   ]
  },
  {
   "cell_type": "code",
   "execution_count": 0,
   "metadata": {
    "application/vnd.databricks.v1+cell": {
     "cellMetadata": {
      "byteLimit": 2048000,
      "rowLimit": 10000
     },
     "inputWidgets": {},
     "nuid": "1a4ba12b-9815-48f7-88f6-54520e80d42d",
     "showTitle": false,
     "title": ""
    }
   },
   "outputs": [
    {
     "output_type": "execute_result",
     "data": {
      "text/plain": [
       "True"
      ]
     },
     "execution_count": 2,
     "metadata": {},
     "output_type": "execute_result"
    }
   ],
   "source": [
    "# 3. Mounting Storage Container to Azure Databricks Directory\n",
    "\n",
    "# Define storage container and account details\n",
    "storageAccountName = 'storagebigdataproject'\n",
    "containerName = 'bd-project'\n",
    "\n",
    "# Define Azure AD application details\n",
    "applicationId = '4794dd0c-4f46-********************'\n",
    "directoryID = 'ffd8fcec-c44d-*****************'\n",
    "secretValue = 'Pza8Q~-***********************'\n",
    "\n",
    "# Define endpoint for authentication\n",
    "endpoint = 'https://login.microsoftonline.com/' + directoryID + '/oauth2/token'\n",
    "\n",
    "# Define source and mount point paths\n",
    "source = 'abfss://' + containerName + '@' + storageAccountName + '.dfs.core.windows.net/'\n",
    "mountPoint = \"/mnt/deBDProject\"\n",
    "\n",
    "# Define configuration parameters for mounting\n",
    "configs = {\n",
    "    \"fs.azure.account.auth.type\": \"OAuth\",\n",
    "    \"fs.azure.account.oauth.provider.type\": \"org.apache.hadoop.fs.azurebfs.oauth2.ClientCredsTokenProvider\",\n",
    "    \"fs.azure.account.oauth2.client.id\": applicationId,\n",
    "    \"fs.azure.account.oauth2.client.secret\": secretValue,\n",
    "    \"fs.azure.account.oauth2.client.endpoint\": endpoint\n",
    "}\n",
    "\n",
    "# Mount the storage container to the specified mount point\n",
    "dbutils.fs.mount(source=source, mount_point=mountPoint, extra_configs=configs)"
   ]
  },
  {
   "cell_type": "code",
   "execution_count": 0,
   "metadata": {
    "application/vnd.databricks.v1+cell": {
     "cellMetadata": {
      "byteLimit": 2048000,
      "rowLimit": 10000
     },
     "inputWidgets": {},
     "nuid": "67f993dd-1dd7-4942-a13e-2426b274ddb2",
     "showTitle": false,
     "title": ""
    }
   },
   "outputs": [
    {
     "output_type": "display_data",
     "data": {
      "text/html": [
       "<style scoped>\n",
       "  .table-result-container {\n",
       "    max-height: 300px;\n",
       "    overflow: auto;\n",
       "  }\n",
       "  table, th, td {\n",
       "    border: 1px solid black;\n",
       "    border-collapse: collapse;\n",
       "  }\n",
       "  th, td {\n",
       "    padding: 5px;\n",
       "  }\n",
       "  th {\n",
       "    text-align: left;\n",
       "  }\n",
       "</style><div class='table-result-container'><table class='table-result'><thead style='background-color: white'><tr><th>path</th><th>name</th><th>size</th><th>modificationTime</th></tr></thead><tbody><tr><td>dbfs:/mnt/deBDProject/Landing/045a355f-bd94-4e52-bf5d-9a29484f12c6/</td><td>045a355f-bd94-4e52-bf5d-9a29484f12c6/</td><td>0</td><td>1716688253000</td></tr><tr><td>dbfs:/mnt/deBDProject/Landing/a154df15-fa35-476c-9d77-64b305e7375a/</td><td>a154df15-fa35-476c-9d77-64b305e7375a/</td><td>0</td><td>1716688252000</td></tr><tr><td>dbfs:/mnt/deBDProject/Landing/archive-postTypes/</td><td>archive-postTypes/</td><td>0</td><td>1716679902000</td></tr><tr><td>dbfs:/mnt/deBDProject/Landing/archive-posts/</td><td>archive-posts/</td><td>0</td><td>1716679865000</td></tr><tr><td>dbfs:/mnt/deBDProject/Landing/archive-users/</td><td>archive-users/</td><td>0</td><td>1716679916000</td></tr><tr><td>dbfs:/mnt/deBDProject/Landing/postTypes/</td><td>postTypes/</td><td>0</td><td>1716679830000</td></tr><tr><td>dbfs:/mnt/deBDProject/Landing/posts/</td><td>posts/</td><td>0</td><td>1716679815000</td></tr><tr><td>dbfs:/mnt/deBDProject/Landing/users/</td><td>users/</td><td>0</td><td>1716679822000</td></tr></tbody></table></div>"
      ]
     },
     "metadata": {
      "application/vnd.databricks.v1+output": {
       "addedWidgets": {},
       "aggData": [],
       "aggError": "",
       "aggOverflow": false,
       "aggSchema": [],
       "aggSeriesLimitReached": false,
       "aggType": "",
       "arguments": {},
       "columnCustomDisplayInfos": {},
       "data": [
        [
         "dbfs:/mnt/deBDProject/Landing/045a355f-bd94-4e52-bf5d-9a29484f12c6/",
         "045a355f-bd94-4e52-bf5d-9a29484f12c6/",
         0,
         1716688253000
        ],
        [
         "dbfs:/mnt/deBDProject/Landing/a154df15-fa35-476c-9d77-64b305e7375a/",
         "a154df15-fa35-476c-9d77-64b305e7375a/",
         0,
         1716688252000
        ],
        [
         "dbfs:/mnt/deBDProject/Landing/archive-postTypes/",
         "archive-postTypes/",
         0,
         1716679902000
        ],
        [
         "dbfs:/mnt/deBDProject/Landing/archive-posts/",
         "archive-posts/",
         0,
         1716679865000
        ],
        [
         "dbfs:/mnt/deBDProject/Landing/archive-users/",
         "archive-users/",
         0,
         1716679916000
        ],
        [
         "dbfs:/mnt/deBDProject/Landing/postTypes/",
         "postTypes/",
         0,
         1716679830000
        ],
        [
         "dbfs:/mnt/deBDProject/Landing/posts/",
         "posts/",
         0,
         1716679815000
        ],
        [
         "dbfs:/mnt/deBDProject/Landing/users/",
         "users/",
         0,
         1716679822000
        ]
       ],
       "datasetInfos": [],
       "dbfsResultPath": null,
       "isJsonSchema": true,
       "metadata": {},
       "overflow": false,
       "plotOptions": {
        "customPlotOptions": {},
        "displayType": "table",
        "pivotAggregation": null,
        "pivotColumns": null,
        "xColumns": null,
        "yColumns": null
       },
       "removedWidgets": [],
       "schema": [
        {
         "metadata": "{}",
         "name": "path",
         "type": "\"string\""
        },
        {
         "metadata": "{}",
         "name": "name",
         "type": "\"string\""
        },
        {
         "metadata": "{}",
         "name": "size",
         "type": "\"long\""
        },
        {
         "metadata": "{}",
         "name": "modificationTime",
         "type": "\"long\""
        }
       ],
       "type": "table"
      }
     },
     "output_type": "display_data"
    }
   ],
   "source": [
    "display(dbutils.fs.ls(\"/mnt/deBDProject/Landing\"))"
   ]
  }
 ],
 "metadata": {
  "application/vnd.databricks.v1+notebook": {
   "dashboards": [],
   "environmentMetadata": null,
   "language": "python",
   "notebookMetadata": {
    "pythonIndentUnit": 4
   },
   "notebookName": "Mount Storage Container",
   "widgets": {}
  }
 },
 "nbformat": 4,
 "nbformat_minor": 0
}
